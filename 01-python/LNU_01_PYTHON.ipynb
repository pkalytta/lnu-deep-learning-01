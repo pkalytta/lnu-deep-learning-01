{
  "cells": [
    {
      "cell_type": "markdown",
      "metadata": {
        "colab_type": "text",
        "id": "view-in-github"
      },
      "source": [
        "<a href=\"https://colab.research.google.com/github/pkalytta/lnu-deep-learning-01/blob/main/LNU_01_PYTHON.ipynb\" target=\"_parent\"><img src=\"https://colab.research.google.com/assets/colab-badge.svg\" alt=\"Open In Colab\"/></a>"
      ]
    },
    {
      "cell_type": "markdown",
      "metadata": {
        "id": "telTucP0nXPQ"
      },
      "source": [
        "# 101 - Grundlagen der Programmierung in Python"
      ]
    },
    {
      "cell_type": "markdown",
      "metadata": {
        "id": "LV3myyXsnXPR"
      },
      "source": [
        "- [Aufgabe 1 - Werte und Typen](#Aufgabe-1---Werte-und-Typen)\n",
        "- [Strings](#Strings)\n",
        "- [Aufgabe 2 - Strings und Dokumentation](#Aufgabe-2---Strings-und-Dokumentation)\n",
        "- [Aufgabe 3 - String Formatierung](#Aufgabe-3---String-Formatierung)\n",
        "- [Listen und Tupel](#Listen-und-Tupel)\n",
        "- [Slicing](#Slicing)\n",
        "- [Dictionaries](#Dictionaries)\n",
        "- [Aufgabe 4 - Dictionaries](#Aufgabe-4---Dictionaries)"
      ]
    },
    {
      "cell_type": "markdown",
      "metadata": {
        "id": "QX6M-_bpnXPR"
      },
      "source": [
        "Programmieren besteht aus einer Aneinanderreihung von Befehlen, die der Python Interpreter ausführt. Ein einfacher Befehl ist die Zuweisung eines Wertes zu einer **Variablen**:"
      ]
    },
    {
      "cell_type": "code",
      "execution_count": null,
      "metadata": {
        "colab": {
          "base_uri": "https://localhost:8080/"
        },
        "id": "fmeJXxGenXPS",
        "outputId": "1902637e-ba3b-4325-9222-78f72039a297"
      },
      "outputs": [
        {
          "data": {
            "text/plain": [
              "1"
            ]
          },
          "execution_count": 2,
          "metadata": {},
          "output_type": "execute_result"
        }
      ],
      "source": [
        "x = 1\n",
        "# Diese Zelle auswählen und mit `<SHIFT> + <ENTER>` ausführen.\n",
        "# Der letzte Rückgabewert der Zelle wird dann unten ausgegeben,\n",
        "# hier also der Wert von `x`:\n",
        "x"
      ]
    },
    {
      "cell_type": "markdown",
      "metadata": {
        "id": "BQZXf8KZnXPS"
      },
      "source": [
        "> **Hinweis:** Dieses Kursmaterial besteht aus interaktiven [Jupyter Notebooks](http://jupyter.org). Jede _Zelle_, wie die obige, könnt ihr per Klick oder mit den Pfeiltasten auswählen und mit `<SHIFT> + <ENTER>` ausführen. Probiert's mal mit der Zelle oben!\n",
        "> \n",
        "> **Geht, um dem Kurs zu folgen, _alle_ Zellen nacheinander durch und führt sie aus.**\n",
        ">\n",
        "> Wie hier demonstriert gibt das Jupyter Notebook immer den letzten Rückgabewert einer Zelle aus. Wir können auch die `print()` Funktion verwenden, um Ausgaben zu generieren:"
      ]
    },
    {
      "cell_type": "code",
      "execution_count": null,
      "metadata": {
        "colab": {
          "base_uri": "https://localhost:8080/"
        },
        "id": "PaEXV1OhnXPS",
        "outputId": "b95b3268-0e2e-4d34-83ea-a59070c8c30b"
      },
      "outputs": [
        {
          "name": "stdout",
          "output_type": "stream",
          "text": [
            "1\n"
          ]
        }
      ],
      "source": [
        "print(x)"
      ]
    },
    {
      "cell_type": "markdown",
      "metadata": {
        "id": "EmHZ8O9SnXPT"
      },
      "source": [
        "Der **Wert** der Variable `x` ist nun der Integer `1`. Werte haben immer einen **Typ** wie\n",
        "\n",
        "- `int` für ganze Zahlen, z.B. `1`, `42`, `-10`,\n",
        "- `float` für Fließkommazahlen, z.B. `0.5`, `3.14`, `1e10`,\n",
        "- `str` für Zeichenketten (_Strings_), z.B. `\"Hello World!\"`,\n",
        "- `boolean` für Wahrheitswerte (_Booleans_), also `True` und `False`\n",
        "\n",
        "> Die Typen der Python Standardlibrary findet ihr in der [Dokumentation](https://docs.python.org/3/library/stdtypes.html).\n",
        "\n",
        "Da Variablen in Python nicht typisiert sind, können der gleichen Variable nacheinander Werte verschiedener Typen zugewiesen werden:"
      ]
    },
    {
      "cell_type": "code",
      "execution_count": null,
      "metadata": {
        "colab": {
          "base_uri": "https://localhost:8080/"
        },
        "id": "cAblSJyZnXPT",
        "outputId": "c32f5112-6cef-464e-bc45-564386bdba33"
      },
      "outputs": [
        {
          "data": {
            "text/plain": [
              "float"
            ]
          },
          "execution_count": 3,
          "metadata": {
            "tags": []
          },
          "output_type": "execute_result"
        }
      ],
      "source": [
        "type(x)"
      ]
    },
    {
      "cell_type": "code",
      "execution_count": null,
      "metadata": {
        "colab": {
          "base_uri": "https://localhost:8080/"
        },
        "id": "9wVDeU1FnXPT",
        "outputId": "eb67a92a-f152-4aac-9700-c165a5b0f1a1"
      },
      "outputs": [
        {
          "data": {
            "text/plain": [
              "float"
            ]
          },
          "execution_count": 3,
          "metadata": {},
          "output_type": "execute_result"
        }
      ],
      "source": [
        "x = 0.5\n",
        "type(x)"
      ]
    },
    {
      "cell_type": "markdown",
      "metadata": {
        "id": "G_hxXot4nXPT"
      },
      "source": [
        "Weiterhin können Werte in einen anderen Typ konvertiert werden:"
      ]
    },
    {
      "cell_type": "code",
      "execution_count": null,
      "metadata": {
        "colab": {
          "base_uri": "https://localhost:8080/"
        },
        "id": "ovD21leEnXPT",
        "outputId": "48d58af4-ed0a-4a2d-dba9-ac2706c1adff"
      },
      "outputs": [
        {
          "data": {
            "text/plain": [
              "0"
            ]
          },
          "execution_count": 4,
          "metadata": {
            "tags": []
          },
          "output_type": "execute_result"
        }
      ],
      "source": [
        "x = int(0.5) # Bei der Konvertierung zu int wird immer abgerundet!\n",
        "x"
      ]
    },
    {
      "cell_type": "markdown",
      "metadata": {
        "id": "HibREQ8XnXPT"
      },
      "source": [
        "Die grundlegenden Rechenoperationen `+`, `-`, `*`, `/` und `**` sind ebenfalls in Python verfügbar und verhalten sich, wie man es erwartet:"
      ]
    },
    {
      "cell_type": "code",
      "execution_count": null,
      "metadata": {
        "colab": {
          "base_uri": "https://localhost:8080/"
        },
        "id": "jV4ruDQZnXPU",
        "outputId": "83d850cb-daa5-4a4a-85b8-b3d2a68c39fe"
      },
      "outputs": [
        {
          "data": {
            "text/plain": [
              "4"
            ]
          },
          "execution_count": 7,
          "metadata": {
            "tags": []
          },
          "output_type": "execute_result"
        }
      ],
      "source": [
        "1 + 3"
      ]
    },
    {
      "cell_type": "code",
      "execution_count": null,
      "metadata": {
        "colab": {
          "base_uri": "https://localhost:8080/"
        },
        "id": "BQzlMxGZnXPU",
        "outputId": "e14fd4a0-7006-4312-c501-762bfa60fc2d"
      },
      "outputs": [
        {
          "data": {
            "text/plain": [
              "1.5"
            ]
          },
          "execution_count": 4,
          "metadata": {},
          "output_type": "execute_result"
        }
      ],
      "source": [
        "3 / 2"
      ]
    },
    {
      "cell_type": "code",
      "execution_count": null,
      "metadata": {
        "colab": {
          "base_uri": "https://localhost:8080/"
        },
        "id": "dFcAolaFnXPU",
        "outputId": "45d75fe5-fe6e-4cb5-e267-88f217047d3d"
      },
      "outputs": [
        {
          "data": {
            "text/plain": [
              "1"
            ]
          },
          "execution_count": 5,
          "metadata": {
            "tags": []
          },
          "output_type": "execute_result"
        }
      ],
      "source": [
        "3 // 2"
      ]
    },
    {
      "cell_type": "code",
      "execution_count": null,
      "metadata": {
        "colab": {
          "base_uri": "https://localhost:8080/"
        },
        "id": "E48wwrQdnXPU",
        "outputId": "5f4f9db4-1553-41a0-b99f-1ec5b8379842"
      },
      "outputs": [
        {
          "data": {
            "text/plain": [
              "9"
            ]
          },
          "execution_count": 8,
          "metadata": {
            "tags": []
          },
          "output_type": "execute_result"
        }
      ],
      "source": [
        "3**2"
      ]
    },
    {
      "cell_type": "markdown",
      "metadata": {
        "id": "BMPf4DKHnXPU"
      },
      "source": [
        "## Aufgabe 1 - Werte und Typen\n",
        "\n",
        "Der Operator zur Potenzierung ist in Python `**`. Weise einer Variablen `y` folgende Werte zu und lasse dir dann ihren Wert und Typ ausgeben. Stimmen Wert und Typ mit deinen Erwartungen überein?"
      ]
    },
    {
      "cell_type": "markdown",
      "metadata": {
        "id": "AxB2YkaQnXPV"
      },
      "source": [
        "a) $4^3$"
      ]
    },
    {
      "cell_type": "markdown",
      "metadata": {
        "id": "pD0rnCRanXPV"
      },
      "source": [
        "> **Hinweis:** Dies ist eine Übungsaufgabe. Verwende die Zelle unten, um sie zu lösen. **Entferne** dazu den Platzhalter-Code\n",
        ">\n",
        "> ```python\n",
        "> # DEINE LÖSUNG HIER\n",
        "> ```\n",
        ">\n",
        "> und schreibe stattdessen den Code zur Lösung der Aufgabe."
      ]
    },
    {
      "cell_type": "code",
      "execution_count": null,
      "metadata": {
        "id": "qsHLoOoPnXPV",
        "nbgrader": {
          "grade": false,
          "grade_id": "101-1a-sol",
          "locked": false,
          "schema_version": 1,
          "solution": true
        }
      },
      "outputs": [],
      "source": [
        "y = 4**3\n",
        "y, type(y)"
      ]
    },
    {
      "cell_type": "markdown",
      "metadata": {
        "id": "JNqMoYNKnXPV"
      },
      "source": [
        "> **Hinweis:** Auf die Lösung jeder Aufgabe folgt eine Test-Zelle wie die folgende, mit der du deine Lösung überprüfen kannst. Führe einfach diese Zelle aus. Wenn etwas an deiner Lösung nicht stimmt, erhälst du eine Fehlermeldung mit Hinweisen."
      ]
    },
    {
      "cell_type": "code",
      "execution_count": null,
      "metadata": {
        "id": "nGrFbzvDnXPV",
        "nbgrader": {
          "grade": true,
          "grade_id": "101-1a-test",
          "locked": true,
          "points": 1,
          "schema_version": 1,
          "solution": false
        }
      },
      "outputs": [],
      "source": [
        "!pip install nose\n",
        "from nose.tools import assert_equal\n",
        "try:\n",
        "    y\n",
        "except NameError:\n",
        "    raise NameError(\"Es gibt keine Variable 'y'. Weise den Wert einer Variablen mit diesem Namen zu.\")\n",
        "assert_equal(y, 64, \"Die Variable hat nicht den richtigen Wert. Überprüfe deine Rechnung.\")\n",
        "print(\"👍 Sehr gut!\")"
      ]
    },
    {
      "cell_type": "markdown",
      "metadata": {
        "id": "5wjQEsqznXPV"
      },
      "source": [
        "b) $2+3.4^2$"
      ]
    },
    {
      "cell_type": "code",
      "execution_count": null,
      "metadata": {
        "id": "rqTI2pYenXPV",
        "nbgrader": {
          "grade": false,
          "grade_id": "101-1b-sol",
          "locked": false,
          "schema_version": 1,
          "solution": true
        }
      },
      "outputs": [],
      "source": [
        "y = 2 + 3.4**2\n",
        "y, type(y)"
      ]
    },
    {
      "cell_type": "code",
      "execution_count": null,
      "metadata": {
        "id": "k28SgcwunXPW",
        "nbgrader": {
          "grade": true,
          "grade_id": "101-1b-test",
          "locked": true,
          "points": 1,
          "schema_version": 1,
          "solution": false
        }
      },
      "outputs": [],
      "source": [
        "from nose.tools import assert_equal\n",
        "try:\n",
        "    y\n",
        "except NameError:\n",
        "    raise NameError(\"Es gibt keine Variable 'y'. Weise den Wert einer Variablen mit diesem Namen zu.\")\n",
        "assert_equal(y, 2 + 3.4**2, \"Die Variable hat nicht den richtigen Wert. Überprüfe deine Rechnung.\")\n",
        "print(\"Ok, du hast es verstanden.\")"
      ]
    },
    {
      "cell_type": "markdown",
      "metadata": {
        "id": "p3PFkj82nXPW"
      },
      "source": [
        "## Strings"
      ]
    },
    {
      "cell_type": "markdown",
      "metadata": {
        "id": "DW7bK20FnXPW"
      },
      "source": [
        "Strings sind **Zeichenketten** wie:"
      ]
    },
    {
      "cell_type": "code",
      "execution_count": null,
      "metadata": {
        "id": "-FREMc_unXPW"
      },
      "outputs": [],
      "source": [
        "s = \"Hello World\""
      ]
    },
    {
      "cell_type": "markdown",
      "metadata": {
        "id": "WGPUnjY4nXPW"
      },
      "source": [
        "und werden in Python vom Typ `str` repräsentiert. Um einen String zu erstellen können wir einzelne (`'`), doppelte (`\"`) oder dreifache (`'''` oder `\"\"\"`, für mehrzeilige Strings) Anführungszeichen verwenden, sodass das jeweils andere Anführungszeichen im String verwendet werden kann:"
      ]
    },
    {
      "cell_type": "code",
      "execution_count": null,
      "metadata": {
        "id": "jergiM7VnXPW"
      },
      "outputs": [],
      "source": [
        "s.count(\"l\")"
      ]
    },
    {
      "cell_type": "code",
      "execution_count": null,
      "metadata": {
        "id": "gjr2dLPBnXPW"
      },
      "outputs": [],
      "source": [
        "\"I'm\""
      ]
    },
    {
      "cell_type": "markdown",
      "metadata": {
        "id": "p7t5TmDRnXPW"
      },
      "source": [
        "Alternativ können Steuerzeichen im String auch _escaped_ werden:"
      ]
    },
    {
      "cell_type": "code",
      "execution_count": null,
      "metadata": {
        "id": "CjXP7BTrnXPX"
      },
      "outputs": [],
      "source": [
        "\"Say \\\"hi\\\"\""
      ]
    },
    {
      "cell_type": "markdown",
      "metadata": {
        "id": "CTboJ8YXnXPX"
      },
      "source": [
        "### Strings sind Reihen"
      ]
    },
    {
      "cell_type": "markdown",
      "metadata": {
        "id": "KNrmT0yfnXPX"
      },
      "source": [
        "Da Strings eine Aneinanderreihung von Elementen (in diesem Fall Textzeichen) darstellen, können viele Funktionen mit Strings verwendet werden, die mit **Reihen** arbeiten. Dazu gehören:"
      ]
    },
    {
      "cell_type": "code",
      "execution_count": null,
      "metadata": {
        "id": "obJl8rfanXPX"
      },
      "outputs": [],
      "source": [
        "len(s) # gibt die Zahl der Reihenelemente zurück"
      ]
    },
    {
      "cell_type": "code",
      "execution_count": null,
      "metadata": {
        "id": "lhzq-so5nXPX"
      },
      "outputs": [],
      "source": [
        "s[0] # gibt das Element der Reihe an der Stelle 0 zurück"
      ]
    },
    {
      "cell_type": "code",
      "execution_count": null,
      "metadata": {
        "id": "EVufuwMNnXPX"
      },
      "outputs": [],
      "source": [
        "s + \"!\" # Reihen können kombiniert werden"
      ]
    },
    {
      "cell_type": "markdown",
      "metadata": {
        "id": "Z1U23-NjnXPX"
      },
      "source": [
        "### Strings sind Objekte"
      ]
    },
    {
      "cell_type": "markdown",
      "metadata": {
        "id": "oyEsWGKanXPX"
      },
      "source": [
        "Die meisten \"Dinge\" in Python sind **Objekte**, d.h. neben ihrem Typ besitzen sie assoziierte **Attribute** und **Methoden**, auf die über einen Punkt `.` zugegriffen werden kann. Neben Strings sind bspw. auch Werte der anderen schon bekannten Datentypen wie `int(5)` und sogar Funktionen und die Datentypen selbst Objekte.\n",
        "\n",
        "Ein Attribut eines Objekts ist eine Variable, die gelesen und gesetzt werden kann, wie bspw. `x.shape`. Eine Methode ist eine Funktion, die das Objekt zur Verfügung stellt, wie `x.min()`.\n",
        "\n",
        "Einige Beispiele für Methoden, die Strings zur Verfügung stellen, sind:"
      ]
    },
    {
      "cell_type": "code",
      "execution_count": null,
      "metadata": {
        "id": "v-69r2xCnXPY"
      },
      "outputs": [],
      "source": [
        "s.upper()"
      ]
    },
    {
      "cell_type": "code",
      "execution_count": null,
      "metadata": {
        "id": "JoGDiENfnXPY"
      },
      "outputs": [],
      "source": [
        "s.split()"
      ]
    },
    {
      "cell_type": "code",
      "execution_count": null,
      "metadata": {
        "id": "o8LHyJPLnXPY"
      },
      "outputs": [],
      "source": [
        "s.index('World')"
      ]
    },
    {
      "cell_type": "markdown",
      "metadata": {
        "id": "elQI2oZsnXPY"
      },
      "source": [
        "> **Hinweis:** In Jupyter Notebooks können wir die **`<TAB>`-Vervollständigung** verwenden um die assoziierten Attribute und Methoden eines Objekts zu inspizieren:\n",
        ">\n",
        "> ```python\n",
        "> s = \"Hello World\"\n",
        "> # Zelle ausführen, dann:\n",
        "> s.<TAB> # `s.` tippen und die <TAB>-Taste drücken\n",
        "> ```\n",
        ">\n",
        "> Dies zeigt die verfügbaren Attribute und Methoden des Strings `s` an. Die `<TAB>`-Vervollständigung für eine Variable funktioniert erst nachdem die Variable erstellt wurde, also die Zelle einmal ausgeführt wurde.\n",
        ">\n",
        "> Um herauszufinden, was eine Funktion oder Methode tut, könnt ihr im Jupyter Notebook ein Fragezeichen `?` verwenden:\n",
        ">\n",
        ">```python\n",
        ">In [1]: s.split?\n",
        ">```\n",
        ">```markdown\n",
        ">Docstring:\n",
        ">S.split(sep=None, maxsplit=-1) -> list of strings\n",
        ">\n",
        ">Return a list of the words in S, using sep as the\n",
        ">delimiter string.  If maxsplit is given, at most maxsplit\n",
        ">splits are done. If sep is not specified or is None, any\n",
        ">whitespace string is a separator and empty strings are\n",
        ">removed from the result.\n",
        ">Type:      builtin_function_or_method\n",
        ">```\n",
        ">\n",
        "> Schreibt ihr stattdessen zwei Fragezeichen `??` zeigt das Jupyter Notebook die gesamte Definition der Funktion oder Methode an.\n",
        ">\n",
        "> **Verwendet die `<TAB>`-Vervollständigung und die `?`-Dokumentation häufig um hilfreiche Attribute und Methoden zu finden und zu verstehen!**"
      ]
    },
    {
      "cell_type": "markdown",
      "metadata": {
        "id": "v3r2orVanXPY"
      },
      "source": [
        "## Aufgabe 2 - Strings und Dokumentation\n",
        "\n",
        "Finde im folgenden String mithilfe einer Methode, wie häufig der Buchstabe `\"A\"` auftaucht und weise den Wert einer Variable `n` zu. Probiere die `<TAB>`-Vervollständigung und die `?`-Dokumentation aus um eine passende Methode zu finden."
      ]
    },
    {
      "cell_type": "code",
      "execution_count": null,
      "metadata": {
        "id": "YGulSGgwnXPY",
        "nbgrader": {
          "grade": false,
          "grade_id": "101-2-sol",
          "locked": false,
          "schema_version": 1,
          "solution": true
        }
      },
      "outputs": [],
      "source": [
        "s = \"CAGTACCAAGTGAAAGAT\"\n",
        "### BEGIN SOLUTION\n",
        "n = s.count(\"A\")\n",
        "### END SOLUTION\n",
        "print(n)"
      ]
    },
    {
      "cell_type": "code",
      "execution_count": null,
      "metadata": {
        "id": "8fqkQfDcnXPY",
        "nbgrader": {
          "grade": true,
          "grade_id": "101-2-test",
          "locked": true,
          "points": 1,
          "schema_version": 1,
          "solution": false
        }
      },
      "outputs": [],
      "source": [
        "from nose.tools import assert_equal\n",
        "try:\n",
        "    y\n",
        "except NameError:\n",
        "    raise NameError(\"Es gibt keine Variable 'n'. Weise den Wert einer Variablen mit diesem Namen zu.\")\n",
        "assert_equal(n, 8, \"Das ist nicht die richtige Anzahl. Versuch's mal mit der `count` Methode!\")\n",
        "print(\"Klappt!\")"
      ]
    },
    {
      "cell_type": "markdown",
      "metadata": {
        "id": "rhSVeGVXnXPZ"
      },
      "source": [
        "### String-Formatierung\n",
        "\n",
        "Eine wichtige Methode ist `str.format()`, die markierte Platzhalter im String mit Werten ersetzt, die der Methode übergeben werden:"
      ]
    },
    {
      "cell_type": "code",
      "execution_count": null,
      "metadata": {
        "id": "BMShCT6cnXPZ"
      },
      "outputs": [],
      "source": [
        "x = 10\n",
        "\"Der Wert von x ist {}\".format(x)"
      ]
    },
    {
      "cell_type": "markdown",
      "metadata": {
        "id": "VyH6ACPanXPZ"
      },
      "source": [
        "Ein Platzhalter wird durch eine öffnende `{` und schließende `}` geschweifte Klammer begrenzt und kann eine Bezeichnung des Platzhalters sowie Formatierungsoptionen beinhalten:"
      ]
    },
    {
      "cell_type": "code",
      "execution_count": null,
      "metadata": {
        "id": "OAF9Xy7jnXPZ"
      },
      "outputs": [],
      "source": [
        "\"{raw_value} ist gerundet {rounded_value:.3f}.\".format(raw_value=2/3, rounded_value=2/3)"
      ]
    },
    {
      "cell_type": "markdown",
      "metadata": {
        "id": "47De9hODnXPZ"
      },
      "source": [
        "> **Hinweis:** Die vollständige Syntax der String-Formatierung ist in der [Dokumentation](https://docs.python.org/2/library/string.html#format-string-syntax) einzusehen."
      ]
    },
    {
      "cell_type": "markdown",
      "metadata": {
        "id": "ztxEaPTFnXPZ"
      },
      "source": [
        "## Aufgabe 3 - String Formatierung\n",
        "\n",
        "Schreibe deinen Namen in die Variable `name`. Verwende dann die `format` Methode um aus `s` und `name` den Gruß `\"Hello World, mein Name ist __DEIN_NAME__!\"` zusammenzusetzen. Weise den zusammengesetzten String der Variable `greeting` zu."
      ]
    },
    {
      "cell_type": "code",
      "execution_count": null,
      "metadata": {
        "colab": {
          "base_uri": "https://localhost:8080/"
        },
        "id": "j_KKhEj6nXPZ",
        "nbgrader": {
          "grade": false,
          "grade_id": "101-3-sol",
          "locked": false,
          "schema_version": 1,
          "solution": true
        },
        "outputId": "ef3f58f8-c4e5-4343-d5cb-b17b7c26d0df"
      },
      "outputs": [
        {
          "name": "stdout",
          "output_type": "stream",
          "text": [
            "Hello World, mein Name ist junis!\n"
          ]
        }
      ],
      "source": [
        "s = \"Hello World\"\n",
        "name = \"junis\"\n",
        "### BEGIN SOLUTION\n",
        "greeting = s + \", mein Name ist {name}!\".format(name=name)\n",
        "### END SOLUTION\n",
        "print(greeting)"
      ]
    },
    {
      "cell_type": "code",
      "execution_count": null,
      "metadata": {
        "id": "Bh2HZMHTnXPa",
        "nbgrader": {
          "grade": true,
          "grade_id": "101-3-test",
          "locked": true,
          "points": 1,
          "schema_version": 1,
          "solution": false
        }
      },
      "outputs": [],
      "source": [
        "from nose.tools import assert_in\n",
        "try:\n",
        "    greeting\n",
        "except NameError:\n",
        "    raise NameError(\"Es gibt keine Variable 'greeting'. Weise den Wert einer Variablen mit diesem Namen zu.\")\n",
        "assert_in(\"mein Name ist\", greeting)\n",
        "print(\"Hello {}! 👋\".format(name))"
      ]
    },
    {
      "cell_type": "markdown",
      "metadata": {
        "id": "NFuEEVMSnXPa"
      },
      "source": [
        "## Listen und Tupel\n",
        "\n",
        "Während Strings einzelne Zeichen aneinanderreihen, repräsentieren **Listen** und **Tupel** eine Reihe _beliebiger_ Werte. Die Elemente einer Liste können verändert werden, während ein Tupel unveränderlich ist. Wir können Listen erstellen, indem wir die Elemente durch Kommata getrennt in eckigen Klammern `[` und `]` angeben, und Tupel durch die Verwendung runder Klammern `(` und `)`:"
      ]
    },
    {
      "cell_type": "code",
      "execution_count": null,
      "metadata": {
        "colab": {
          "base_uri": "https://localhost:8080/"
        },
        "id": "ugeiXnd-nXPa",
        "outputId": "87fed1c2-d0af-4c05-8310-1fd8ab484cb1"
      },
      "outputs": [
        {
          "data": {
            "text/plain": [
              "[4, 0.5, 'Alice']"
            ]
          },
          "execution_count": 6,
          "metadata": {},
          "output_type": "execute_result"
        }
      ],
      "source": [
        "l = [ 4, 0.5, \"Alice\" ]\n",
        "l"
      ]
    },
    {
      "cell_type": "code",
      "execution_count": null,
      "metadata": {
        "id": "d_sbEslNnXPa"
      },
      "outputs": [],
      "source": [
        "t = ( \"Bob\", True )\n",
        "t"
      ]
    },
    {
      "cell_type": "markdown",
      "metadata": {
        "id": "XxEh7HYwnXPa"
      },
      "source": [
        "### Auch Listen und Tupel sind Reihen\n",
        "\n",
        "Wie bei jeder Reihe können wir die Anzahl der Elemente bestimmen und auf einzelne Elemente über ihren Index zugreifen:"
      ]
    },
    {
      "cell_type": "code",
      "execution_count": null,
      "metadata": {
        "id": "uXh5V3_ZnXPa"
      },
      "outputs": [],
      "source": [
        "len(l), len(t)"
      ]
    },
    {
      "cell_type": "code",
      "execution_count": null,
      "metadata": {
        "colab": {
          "base_uri": "https://localhost:8080/"
        },
        "id": "Eb5fbRUhnXPa",
        "outputId": "eca63120-73d5-4542-b36b-9b55bc880f0c"
      },
      "outputs": [
        {
          "data": {
            "text/plain": [
              "4"
            ]
          },
          "execution_count": 7,
          "metadata": {},
          "output_type": "execute_result"
        }
      ],
      "source": [
        "l[0] # Indexierung beginnt in Python mit dem Index 0"
      ]
    },
    {
      "cell_type": "code",
      "execution_count": null,
      "metadata": {
        "colab": {
          "base_uri": "https://localhost:8080/"
        },
        "id": "8GFpboiynXPb",
        "outputId": "a5fb187c-b3a4-4ade-d692-89258bb71a20"
      },
      "outputs": [
        {
          "data": {
            "text/plain": [
              "0.5"
            ]
          },
          "execution_count": 8,
          "metadata": {},
          "output_type": "execute_result"
        }
      ],
      "source": [
        "l[1]"
      ]
    },
    {
      "cell_type": "code",
      "execution_count": null,
      "metadata": {
        "colab": {
          "base_uri": "https://localhost:8080/",
          "height": 35
        },
        "id": "V_cz9hW7nXPb",
        "outputId": "7434ba5e-783e-4532-e840-815325f59999"
      },
      "outputs": [
        {
          "data": {
            "application/vnd.google.colaboratory.intrinsic+json": {
              "type": "string"
            },
            "text/plain": [
              "'Alice'"
            ]
          },
          "execution_count": 9,
          "metadata": {},
          "output_type": "execute_result"
        }
      ],
      "source": [
        "l[2]"
      ]
    },
    {
      "cell_type": "code",
      "execution_count": null,
      "metadata": {
        "id": "ASriJdB8nXPb"
      },
      "outputs": [],
      "source": [
        "t[0]"
      ]
    },
    {
      "cell_type": "code",
      "execution_count": null,
      "metadata": {
        "id": "_-d3KeT4nXPb"
      },
      "outputs": [],
      "source": [
        "t[1]"
      ]
    },
    {
      "cell_type": "markdown",
      "metadata": {
        "id": "XHbZD0r-nXPb"
      },
      "source": [
        "### Listen sind veränderlich"
      ]
    },
    {
      "cell_type": "markdown",
      "metadata": {
        "id": "IGnvYi7UnXPb"
      },
      "source": [
        "Anders als Strings und Tupel können Listen jedoch verändert werden, indem Elemente verändert, hinzugefügt oder entfernt werden:"
      ]
    },
    {
      "cell_type": "code",
      "execution_count": null,
      "metadata": {
        "colab": {
          "base_uri": "https://localhost:8080/"
        },
        "id": "ui_J1JFOnXPb",
        "outputId": "8790dc89-561c-4937-aca3-1b7fcefe7ee9"
      },
      "outputs": [
        {
          "data": {
            "text/plain": [
              "[4, -2.2, 'Alice']"
            ]
          },
          "execution_count": 10,
          "metadata": {},
          "output_type": "execute_result"
        }
      ],
      "source": [
        "l[1] = -2.2 # Weise der Liste einen neuen Wert beim Index 1 zu\n",
        "l"
      ]
    },
    {
      "cell_type": "code",
      "execution_count": null,
      "metadata": {
        "colab": {
          "base_uri": "https://localhost:8080/"
        },
        "id": "bbMmSDL9nXPb",
        "outputId": "0b1bee5e-eb7d-4b08-a134-da6cc3b07009"
      },
      "outputs": [
        {
          "data": {
            "text/plain": [
              "[4, -2.2, 'Alice', -3]"
            ]
          },
          "execution_count": 11,
          "metadata": {},
          "output_type": "execute_result"
        }
      ],
      "source": [
        "l.append(-3) # Füge einen neuen Wert am Ende der liste hinzu\n",
        "l"
      ]
    },
    {
      "cell_type": "code",
      "execution_count": null,
      "metadata": {
        "colab": {
          "base_uri": "https://localhost:8080/"
        },
        "id": "kAGLIcffnXPb",
        "outputId": "0a3ad782-8043-4eb7-ee0c-36e2d0a13471"
      },
      "outputs": [
        {
          "data": {
            "text/plain": [
              "-3"
            ]
          },
          "execution_count": 12,
          "metadata": {},
          "output_type": "execute_result"
        }
      ],
      "source": [
        "l.pop() # Entfernt das letzte Element (bzw. das am angegebenen Index) aus der Liste und gibt es zurück"
      ]
    },
    {
      "cell_type": "markdown",
      "metadata": {
        "id": "wAW4WP-InXPc"
      },
      "source": [
        "## Slicing\n",
        "\n",
        "Du kannst mit der _Slicing_ Syntax auf Teile einer Reihe zugreifen:\n",
        "\n",
        "```python\n",
        "slice = list[start:stop:step]\n",
        "```\n",
        "\n",
        "Dabei bezeichnet `start` den ersten Index und `stop` den letzten nicht mehr enthaltenen Index des Abschnitts. Mit `step` kannst du eine Schrittweite angeben, in der die Reihe iteriert werden soll.\n",
        "\n",
        "Du musst nicht alle drei Argumente angeben. Per default ist dann `start=0`, `stop=len(list)` und `step=1`:"
      ]
    },
    {
      "cell_type": "code",
      "execution_count": null,
      "metadata": {
        "id": "Nm7m25csnXPc"
      },
      "outputs": [],
      "source": [
        "l[:2] # Der erste Index ist per default start=0"
      ]
    },
    {
      "cell_type": "code",
      "execution_count": null,
      "metadata": {
        "id": "qwsucmUynXPc"
      },
      "outputs": [],
      "source": [
        "l[2:] # Der letzte Index ist per default das Ende der Reihe"
      ]
    },
    {
      "cell_type": "code",
      "execution_count": null,
      "metadata": {
        "id": "WB0zt6lPnXPc"
      },
      "outputs": [],
      "source": [
        "l[::2] # Jedes zweite Element"
      ]
    },
    {
      "cell_type": "code",
      "execution_count": null,
      "metadata": {
        "id": "OPfh9KLinXPc"
      },
      "outputs": [],
      "source": [
        "l[::-1] # Umgekehrte Reihenfolge"
      ]
    },
    {
      "cell_type": "markdown",
      "metadata": {
        "id": "M335_HrAnXPc"
      },
      "source": [
        "> **Hinweis:** Slicing ist ein mächtiges Werkzeug um kurzen, prägnanten Code zu schreiben und wird dir bei der Arbeit mit _Numpy Arrays_ ab Lektion [201 - Numerik mit Numpy](201 - Numerik mit Numpy.ipynb) noch sehr häufig begegnen."
      ]
    },
    {
      "cell_type": "markdown",
      "metadata": {
        "id": "UDPsXxn6nXPc"
      },
      "source": [
        "## Dictionaries\n",
        "\n",
        "Ein weiterer wichtiger Datentyp ist das **Dictionary**. Ein Dictionary ordnet jeweils einem _Key_ einen _Value_ zu und wird durch geschweifte Klammern `{` und `}` erstellt:"
      ]
    },
    {
      "cell_type": "code",
      "execution_count": null,
      "metadata": {
        "id": "WNF-NkEpnXPc"
      },
      "outputs": [],
      "source": [
        "d = { 'a':1, 'b':2, 'c':3 }\n",
        "d"
      ]
    },
    {
      "cell_type": "markdown",
      "metadata": {
        "id": "tuhA9ZkynXPd"
      },
      "source": [
        "Auf einzelne Werte kann über ihren Key zugegriffen werden:"
      ]
    },
    {
      "cell_type": "code",
      "execution_count": null,
      "metadata": {
        "id": "t9lrwEDenXPd"
      },
      "outputs": [],
      "source": [
        "d['a']"
      ]
    },
    {
      "cell_type": "markdown",
      "metadata": {
        "id": "EZRAVVURnXPd"
      },
      "source": [
        "Dictionaries sind veränderlich wie Listen:"
      ]
    },
    {
      "cell_type": "code",
      "execution_count": null,
      "metadata": {
        "id": "5zPkh8v9nXPd"
      },
      "outputs": [],
      "source": [
        "d['d'] = 4\n",
        "d"
      ]
    },
    {
      "cell_type": "markdown",
      "metadata": {
        "id": "WTDBFhgtnXPd"
      },
      "source": [
        "Es müssen nicht unbedingt Strings als Keys verwendet werden, und auch verschiedene Datentypen sind möglich:"
      ]
    },
    {
      "cell_type": "code",
      "execution_count": null,
      "metadata": {
        "id": "KirTnvqKnXPe"
      },
      "outputs": [],
      "source": [
        "e = { 'some_key': 4.2, 3517: 'some_value' }\n",
        "e"
      ]
    },
    {
      "cell_type": "code",
      "execution_count": null,
      "metadata": {
        "id": "n3S1h1zInXPe"
      },
      "outputs": [],
      "source": [
        "e['some_key']"
      ]
    },
    {
      "cell_type": "code",
      "execution_count": null,
      "metadata": {
        "id": "hkVCP6kOnXPe"
      },
      "outputs": [],
      "source": [
        "e[3517]"
      ]
    },
    {
      "cell_type": "markdown",
      "metadata": {
        "id": "h6bW8R5NnXPe"
      },
      "source": [
        "## Aufgabe 4 - Dictionaries\n",
        "\n",
        "Schreibe ein Wörterbuch mit einigen deutschen Wörtern und ihrer Übersetzung ins Englische. Weise es der Variable `d` zu und verwende es dann, indem du dir einige Werte darin ausgeben lässt."
      ]
    },
    {
      "cell_type": "code",
      "execution_count": null,
      "metadata": {
        "id": "3yT6GkqEnXPe",
        "nbgrader": {
          "grade": false,
          "grade_id": "101-4-sol",
          "locked": false,
          "schema_version": 1,
          "solution": true
        }
      },
      "outputs": [],
      "source": [
        "### BEGIN SOLUTION\n",
        "d = {\n",
        "    \"Wörterbuch\": \"dictionary\"\n",
        "}\n",
        "### END SOLUTION\n",
        "d[\"Wörterbuch\"]"
      ]
    },
    {
      "cell_type": "code",
      "execution_count": null,
      "metadata": {
        "id": "P4gnNZNcnXPe",
        "nbgrader": {
          "grade": true,
          "grade_id": "101-4-test",
          "locked": true,
          "points": 1,
          "schema_version": 1,
          "solution": false
        }
      },
      "outputs": [],
      "source": [
        "from nose.tools import assert_true\n",
        "try:\n",
        "    d\n",
        "except NameError:\n",
        "    raise NameError(\"Es gibt keine Variable 'd'. Weise den Wert einer Variablen mit diesem Namen zu.\")\n",
        "assert_true(len(d) > 0, \"Das Wörterbuch hat keine Einträge.\")\n",
        "print(\"Wow, {} Einträge im Wörterbuch!\".format(len(d)))"
      ]
    },
    {
      "cell_type": "markdown",
      "metadata": {
        "id": "ZEQabz-3nXPf"
      },
      "source": [
        "---\n",
        "\n",
        "Du kannst nun mit Variablen und Datentypen umgehen und den Python Interpreter rechnen lassen. Lerne in der nächsten Lektion, wie du mit _Control Flow_ Anweisungen deine ersten Programme schreiben kannst.\n",
        "\n",
        "[Startseite](index.ipynb) | [**>> 102 - Control Flow**](102%20-%20Control%20Flow.ipynb)"
      ]
    }
  ],
  "metadata": {
    "colab": {
      "include_colab_link": true,
      "provenance": []
    },
    "kernelspec": {
      "display_name": "Python 3",
      "language": "python",
      "name": "python3"
    },
    "language_info": {
      "codemirror_mode": {
        "name": "ipython",
        "version": 3
      },
      "file_extension": ".py",
      "mimetype": "text/x-python",
      "name": "python",
      "nbconvert_exporter": "python",
      "pygments_lexer": "ipython3",
      "version": "3.8.2 (tags/v3.8.2:7b3ab59, Feb 25 2020, 23:03:10) [MSC v.1916 64 bit (AMD64)]"
    },
    "vscode": {
      "interpreter": {
        "hash": "b61a1a0bf8d2b6dbc17bdc74d896464607971e4df2e97df31afc584aea15919e"
      }
    }
  },
  "nbformat": 4,
  "nbformat_minor": 0
}
